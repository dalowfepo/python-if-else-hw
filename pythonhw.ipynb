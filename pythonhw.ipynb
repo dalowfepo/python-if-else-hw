{
 "cells": [
  {
   "cell_type": "code",
   "execution_count": 15,
   "metadata": {},
   "outputs": [
    {
     "name": "stdout",
     "output_type": "stream",
     "text": [
      "26.21870715\n"
     ]
    }
   ],
   "source": [
    "print (42.195*0.62137)"
   ]
  },
  {
   "cell_type": "code",
   "execution_count": 6,
   "metadata": {},
   "outputs": [
    {
     "name": "stdout",
     "output_type": "stream",
     "text": [
      "70\n"
     ]
    }
   ],
   "source": [
    "my_height = 70\n",
    "print (my_height)"
   ]
  },
  {
   "cell_type": "code",
   "execution_count": 10,
   "metadata": {},
   "outputs": [
    {
     "name": "stdout",
     "output_type": "stream",
     "text": [
      "22.59814049586777\n"
     ]
    }
   ],
   "source": [
    "my_height = 176\n",
    "my_weight = 70\n",
    "bmi = my_weight/ (my_height/ 100)**2\n",
    "print (bmi)"
   ]
  },
  {
   "cell_type": "code",
   "execution_count": 22,
   "metadata": {},
   "outputs": [
    {
     "name": "stdout",
     "output_type": "stream",
     "text": [
      "10\n",
      "Matthew Perry\n"
     ]
    }
   ],
   "source": [
    "genre = \"SitCom\"\n",
    "seasons = 10\n",
    "episodes = 236\n",
    "stars = [\"Jennifer Aniston\", \"Courteney Cox\", \"Lisa Kudrow\",\n",
    "\"Matt LeBlanc\", \"Matthew Perry\", \"David Schwimmer\"]\n",
    "print (seasons)\n",
    "print(stars[4])"
   ]
  },
  {
   "cell_type": "code",
   "execution_count": 18,
   "metadata": {
    "scrolled": true
   },
   "outputs": [
    {
     "name": "stdout",
     "output_type": "stream",
     "text": [
      "Rachel Green\n",
      "Monica Geller\n",
      "Phoebe Buffay\n"
     ]
    }
   ],
   "source": [
    "characters = [\"Rachel Green\", \"Monica Geller\", \"Phoebe Buffay\", \"Matt LeBlanc\", \"Matthew Perry\", \"David Schwimmer\"]\n",
    "print (characters[0])\n",
    "print (characters[1])\n",
    "print (characters[2])"
   ]
  },
  {
   "cell_type": "code",
   "execution_count": 35,
   "metadata": {},
   "outputs": [
    {
     "name": "stdout",
     "output_type": "stream",
     "text": [
      "['red', 'green', 'blue', 'green', 'red', 'blue', 'green', 'green', 'red', 'blue']\n"
     ]
    }
   ],
   "source": [
    "rgb_col_list = [\"red\", \"green\", \"blue\", \"green\", \"red\", \"blue\", \"green\", \"green\", \"red\", \"blue\"]\n",
    "rgb_col_set = rgb_col_list\n",
    "print (rgb_col_set)"
   ]
  },
  {
   "cell_type": "code",
   "execution_count": 21,
   "metadata": {},
   "outputs": [
    {
     "name": "stdout",
     "output_type": "stream",
     "text": [
      "Matthew Perry\n"
     ]
    }
   ],
   "source": [
    "friends_dict = {\n",
    "    \"genre\": \"sitcom\",\n",
    "    \"seasons\": 10,\n",
    "    \"episodes\": 236,\n",
    "    \"starrings\": [\"Jennifer Aniston\", \"Courteney Cox\", \"Lisa Kudrow\", \"Matt LeBlanc\", \"Matthew Perry\", \"David Schwimmer\"]\n",
    "}\n",
    "print (friends_dict[\"starrings\"][4])"
   ]
  },
  {
   "cell_type": "code",
   "execution_count": 63,
   "metadata": {},
   "outputs": [
    {
     "name": "stdout",
     "output_type": "stream",
     "text": [
      "[10, 'Two', 'Six', 'One', 'Six', 'Five', 'Three', 'One', 'Two', 'Five', 'Two', 'Five', 'Three', 'Six']\n",
      "14\n"
     ]
    }
   ],
   "source": [
    "import random\n",
    "dice_flips = [10]\n",
    "dice = [\"One\",\"Two\",\"Three\",\"Four\",\"Five\",\"Six\"]\n",
    "while dice_flips.count(\"Six\") < 3 :\n",
    "    dice_flips.append(dice[random.randint(0,6)])\n",
    "print (dice_flips)\n",
    "print (len(dice_flips))"
   ]
  },
  {
   "cell_type": "code",
   "execution_count": null,
   "metadata": {},
   "outputs": [],
   "source": []
  }
 ],
 "metadata": {
  "kernelspec": {
   "display_name": "Python 3",
   "language": "python",
   "name": "python3"
  },
  "language_info": {
   "codemirror_mode": {
    "name": "ipython",
    "version": 3
   },
   "file_extension": ".py",
   "mimetype": "text/x-python",
   "name": "python",
   "nbconvert_exporter": "python",
   "pygments_lexer": "ipython3",
   "version": "3.6.5"
  }
 },
 "nbformat": 4,
 "nbformat_minor": 2
}
